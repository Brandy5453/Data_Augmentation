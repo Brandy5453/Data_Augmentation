{
 "cells": [
  {
   "cell_type": "code",
   "execution_count": null,
   "id": "bf837054",
   "metadata": {},
   "outputs": [],
   "source": [
    "# -*- coding: utf-8 -*-\n",
    "\"\"\"\n",
    "Created on Mon Sep 25 15:01:40 2023\n",
    "\n",
    "@author: Manuel\n",
    "\"\"\"\n",
    "\n",
    "\n",
    "from keras.preprocessing.image import ImageDataGenerator\n",
    "from skimage import io\n",
    "\n",
    "# Construct an instance of the ImageDataGenerator class\n",
    "# Pass the augmentation parameters through the constructor. \n",
    "\n",
    "datagen = ImageDataGenerator(\n",
    "        rotation_range=45,     #Random rotation between 0 and 45\n",
    "        width_shift_range=0.2,   #% shift\n",
    "        height_shift_range=0.2,\n",
    "        shear_range=0.2,\n",
    "        zoom_range=0.2,\n",
    "        horizontal_flip=True,\n",
    "        fill_mode='reflect')    #Also try nearest, constant, reflect, wrap\n",
    "\n",
    "\n",
    "x = io.imread('monalisa_einstein/monalisa/monalisa.jpg')  #Array with shape (256, 256, 3)\n",
    "\n",
    "# Reshape the input image because ...\n",
    "#x: Input data to datagen.flow must be Numpy array of rank 4 or a tuple.\n",
    "#First element represents the number of images\n",
    "x = x.reshape((1, ) + x.shape)  #Array with shape (1, 256, 256, 3)\n",
    "\n",
    "i = 0\n",
    "for batch in datagen.flow(x, batch_size=16,  \n",
    "                          save_to_dir='augmented', \n",
    "                          save_prefix='aug', \n",
    "                          save_format='png'):\n",
    "    i += 1\n",
    "    if i > 20:\n",
    "        break  # otherwise the generator would loop indefinitely  \n"
   ]
  }
 ],
 "metadata": {
  "kernelspec": {
   "display_name": "tf",
   "language": "python",
   "name": "tf"
  },
  "language_info": {
   "codemirror_mode": {
    "name": "ipython",
    "version": 3
   },
   "file_extension": ".py",
   "mimetype": "text/x-python",
   "name": "python",
   "nbconvert_exporter": "python",
   "pygments_lexer": "ipython3",
   "version": "3.9.15"
  }
 },
 "nbformat": 4,
 "nbformat_minor": 5
}
