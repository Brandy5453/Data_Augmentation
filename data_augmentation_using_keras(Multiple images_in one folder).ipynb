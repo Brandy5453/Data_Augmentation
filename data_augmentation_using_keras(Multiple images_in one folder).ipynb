from keras.preprocessing.image import ImageDataGenerator
from skimage import io

# Construct an instance of the ImageDataGenerator class
# Pass the augmentation parameters through the constructor. 

datagen = ImageDataGenerator(
        rotation_range=45,     #Random rotation between 0 and 45
        width_shift_range=0.2,   #% shift
        height_shift_range=0.2,
        shear_range=0.2,
        zoom_range=0.2,
        horizontal_flip=True,
        fill_mode='reflect', cval=125)    #Also try nearest, constant, reflect, wrap


dataset = []

import numpy as np
import os
from PIL import Image

image_directory = "C:/Users/Manuel/Desktop/Thesis images/Wasteimages/"
SIZE = 512
dataset = []

my_images = os.listdir(image_directory)
for i, image_name in enumerate(my_images):
    if (image_name.split('.')[1] == 'jpg'):
        image = io.imread(image_directory + image_name)
        image = Image.fromarray(image, 'RGB')
        image = image.resize((SIZE,SIZE))
        dataset.append(np.array(image))

x = np.array(dataset)



i = 0
for batch in datagen.flow(x, batch_size=16,  
                          save_to_dir="C:/Users/Manuel/Desktop/Thesis images/Augmented_image", 
                          save_prefix='aug', 
                          save_format='png'):
    i += 1
    if i > 100:
        break  # otherwise the generator would loop indefinitely  
